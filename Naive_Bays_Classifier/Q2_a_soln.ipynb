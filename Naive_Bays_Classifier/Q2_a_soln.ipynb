{
 "cells": [
  {
   "cell_type": "code",
   "execution_count": 22,
   "metadata": {},
   "outputs": [],
   "source": [
    "import numpy as np\n",
    "import matplotlib.pyplot as plt\n",
    "import math\n",
    "from mpl_toolkits.mplot3d import Axes3D"
   ]
  },
  {
   "cell_type": "code",
   "execution_count": 23,
   "metadata": {},
   "outputs": [
    {
     "data": {
      "image/png": "[encoded data removed]",
      "text/plain": [
       "<Figure size 432x288 with 1 Axes>"
      ]
     },
     "metadata": {
      "needs_background": "light"
     },
     "output_type": "display_data"
    }
   ],
   "source": [
    "# Given Data\n",
    "x = np.arange(0,10,1) \n",
    "x1_w1 = np.array([-5.01,-5.43,1.08,0.86,-2.67,4.94,-2.51,-2.25,5.56,1.03])\n",
    "plt.scatter(x,x1_w1);\n",
    "x1_w2 = np.array([-0.91,1.30,-7.75,-5.47,6.14,3.6,5.37,7.18,-7.39,-7.5])\n",
    "plt.scatter(x,x1_w2);\n",
    "x1_w3 = np.array([5.35,5.12,-1.34,4.48,7.11,7.17,5.75,0.77,0.9,3.52])\n",
    "plt.scatter(x,x1_w3);"
   ]
  },
  {
   "cell_type": "code",
   "execution_count": 24,
   "metadata": {},
   "outputs": [
    {
     "name": "stderr",
     "output_type": "stream",
     "text": [
      "<ipython-input-24-3a01e9e4c805>:42: RuntimeWarning: divide by zero encountered in log\n",
      "  z = np.log(p_w)\n"
     ]
    }
   ],
   "source": [
    "## Find mean value for each feature and write mean value vector\n",
    "m1_w1 = np.mean(x1_w1) \n",
    "\n",
    "m1_w2 = np.mean(x1_w2) \n",
    "\n",
    "m1_w3 = np.mean(x1_w3) \n",
    "\n",
    "## Find covariance matrix for all features\n",
    "\n",
    "# find out covariance with respect  columns \n",
    "cov_mat = x1_w1  \n",
    "cov_mat1 = np.cov(cov_mat)\n",
    "# print(cov_mat1) \n",
    "cov_mat = x1_w2\n",
    "cov_mat2 = np.cov(cov_mat)\n",
    "# print(cov_mat2) \n",
    "cov_mat = x1_w3\n",
    "cov_mat3 = np.cov(cov_mat)\n",
    "# print(cov_mat2) \n",
    "\n",
    "## Given A-prior probabilities\n",
    "p_w1 = 0.5\n",
    "p_w2 = 0.5\n",
    "p_w3 = 0\n",
    "\n",
    "## Find inverse of covarince matrices for future use\n",
    "cov_mat1_inv = (cov_mat1)**(-1)\n",
    "cov_mat2_inv = (cov_mat2)**(-1)\n",
    "cov_mat3_inv = (cov_mat3)**(-1)\n",
    "\n",
    "## Functions to calculate Ai, Bi and Cio of discriminant function\n",
    "\n",
    "def a_mat(cov_matinv):\n",
    "    return (-0.5)*cov_matinv\n",
    "\n",
    "def b_mat(mean_mat,cov_matinv):\n",
    "    return np.dot(mean_mat.T,cov_matinv)\n",
    "\n",
    "def CIO(mean_mat,cov_matinv,p_w):\n",
    "    x = (-0.5)*np.dot(np.dot((-0.5)*mean_mat.T,cov_matinv),mean_mat)\n",
    "    y = (-0.5)*np.log(abs(cov_matinv))\n",
    "    z = np.log(p_w)\n",
    "    return x+y+z\n",
    "\n",
    "## calculate Ai for all classes\n",
    "a_w1 = a_mat(cov_mat1_inv)\n",
    "# print(a_w1.shape)\n",
    "a_w2 = a_mat(cov_mat2_inv)\n",
    "a_w3 = a_mat(cov_mat3_inv)\n",
    "\n",
    "## calculate Bi for all classes\n",
    "b_w1 = b_mat(m1_w1,cov_mat1_inv)\n",
    "# print(b_w1.shape)\n",
    "b_w2 = b_mat(m1_w2,cov_mat2_inv)\n",
    "b_w3 = b_mat(m1_w3,cov_mat3_inv)\n",
    "\n",
    "## calculate Cio for all classes\n",
    "cio_w1 = CIO(m1_w1,cov_mat1_inv,p_w1)\n",
    "# print(cio_w1.shape)\n",
    "cio_w2 = CIO(m1_w2,cov_mat2_inv,p_w2)\n",
    "cio_w3 = CIO(m1_w3,cov_mat3_inv,p_w3)\n"
   ]
  },
  {
   "cell_type": "code",
   "execution_count": 25,
   "metadata": {},
   "outputs": [
    {
     "name": "stdout",
     "output_type": "stream",
     "text": [
      "[0.92478659]\n",
      "[1.20798488]\n",
      "[-inf]\n",
      "This pattern belongs to class g2\n"
     ]
    }
   ],
   "source": [
    "def discriminator(A,B,cio,X):\n",
    "    x = (-0.5)*np.dot(np.dot(X.T,A),X)\n",
    "    y = np.dot(B,X)\n",
    "    z = cio\n",
    "    return x+y+z\n",
    "x_test = np.array([5])\n",
    "g1 = discriminator(a_w1,b_w1,cio_w1,x_test)\n",
    "print(g1)\n",
    "g2 = discriminator(a_w2,b_w2,cio_w2,x_test)\n",
    "print(g2)\n",
    "g3 = discriminator(a_w3,b_w3,cio_w3,x_test)\n",
    "print(g3)\n",
    "\n",
    "## Classifier\n",
    "if g1>g2 and g1>g3:\n",
    "    print('This pattern belongs to class g1')\n",
    "elif g2>g1 and g2>g3:\n",
    "    print('This pattern belongs to class g2')\n",
    "else:\n",
    "    print('This pattern belongs to class g3')"
   ]
  }
 ],
 "metadata": {
  "kernelspec": {
   "display_name": "Python 3",
   "language": "python",
   "name": "python3"
  },
  "language_info": {
   "codemirror_mode": {
    "name": "ipython",
    "version": 3
   },
   "file_extension": ".py",
   "mimetype": "text/x-python",
   "name": "python",
   "nbconvert_exporter": "python",
   "pygments_lexer": "ipython3",
   "version": "3.8.3"
  }
 },
 "nbformat": 4,
 "nbformat_minor": 4
}
