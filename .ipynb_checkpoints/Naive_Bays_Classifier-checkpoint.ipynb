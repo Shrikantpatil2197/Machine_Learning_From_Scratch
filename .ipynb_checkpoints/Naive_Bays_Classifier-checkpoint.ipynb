{
 "cells": [
  {
   "cell_type": "code",
   "execution_count": 219,
   "metadata": {},
   "outputs": [],
   "source": [
    "import numpy as np\n",
    "import matplotlib.pyplot as plt\n",
    "import math"
   ]
  },
  {
   "cell_type": "code",
   "execution_count": 220,
   "metadata": {},
   "outputs": [
    {
     "name": "stdout",
     "output_type": "stream",
     "text": [
      "[[2 3 3 4]\n",
      " [6 4 8 6]]\n",
      "[[ 3  1  3  5]\n",
      " [ 0 -2 -4 -2]]\n"
     ]
    },
    {
     "data": {
      "text/plain": [
       "(2, 4)"
      ]
     },
     "execution_count": 220,
     "metadata": {},
     "output_type": "execute_result"
    },
    {
     "data": {
      "image/png": "[encoded data removed]",
      "text/plain": [
       "<Figure size 432x288 with 1 Axes>"
      ]
     },
     "metadata": {
      "needs_background": "light"
     },
     "output_type": "display_data"
    }
   ],
   "source": [
    "x1_w1 = np.array([2,3,3,4])\n",
    "x2_w1 = np.array([6,4,8,6])\n",
    "plt.scatter(x1_w1,x2_w1);\n",
    "x1_w2 = np.array([3,1,3,5])\n",
    "x2_w2 = np.array([0,-2,-4,-2])\n",
    "X1 = np.stack((x1_w1,x2_w1),axis=0)\n",
    "X2 = np.stack((x1_w2,x2_w2),axis=0)\n",
    "plt.scatter(x1_w2,x2_w2);\n",
    "print(X1)\n",
    "print(X2)\n",
    "X1.shape"
   ]
  },
  {
   "cell_type": "code",
   "execution_count": 221,
   "metadata": {},
   "outputs": [],
   "source": [
    "m1_w1 = np.mean(x1_w1) \n",
    "m2_w1 = np.mean(x2_w1)\n",
    "m1 = np.array([m1_w1,m2_w1])\n",
    "\n",
    "m1_w2 = np.mean(x1_w2) \n",
    "m2_w2 = np.mean(x2_w2)\n",
    "m2 = np.array([m1_w2,m2_w2])\n"
   ]
  },
  {
   "cell_type": "code",
   "execution_count": 222,
   "metadata": {},
   "outputs": [
    {
     "name": "stdout",
     "output_type": "stream",
     "text": [
      "[[0.66666667 0.        ]\n",
      " [0.         2.66666667]]\n",
      "[[2.66666667 0.        ]\n",
      " [0.         2.66666667]]\n"
     ]
    }
   ],
   "source": [
    "# find out covariance with respect  columns \n",
    "cov_mat = np.stack((x1_w1, x2_w1), axis = 0)  \n",
    "cov_mat1 = np.cov(cov_mat)\n",
    "print(cov_mat1) \n",
    "cov_mat = np.stack((x1_w2, x2_w2), axis = 0)  \n",
    "cov_mat2 = np.cov(cov_mat)\n",
    "print(cov_mat2) "
   ]
  },
  {
   "cell_type": "code",
   "execution_count": 223,
   "metadata": {},
   "outputs": [
    {
     "name": "stdout",
     "output_type": "stream",
     "text": [
      "(2, 2)\n",
      "(2,)\n",
      "()\n"
     ]
    }
   ],
   "source": [
    "p_w1 = 0.5\n",
    "p_w2 = 0.5\n",
    "\n",
    "cov_mat1_inv = np.linalg.inv(cov_mat1)\n",
    "cov_mat2_inv = np.linalg.inv(cov_mat2)\n",
    "\n",
    "def a_mat(cov_matinv):\n",
    "    return (-0.5)*cov_matinv\n",
    "\n",
    "def b_mat(mean_mat,cov_matinv):\n",
    "    return np.dot(mean_mat.T,cov_matinv)\n",
    "\n",
    "def CIO(mean_mat,cov_matinv,p_w):\n",
    "    x = (-0.5)*np.dot(np.dot((-0.5)*mean_mat.T,cov_matinv),mean_mat)\n",
    "    y = (-0.5)*np.log(np.linalg.det(cov_matinv))\n",
    "    z = np.log(p_w)\n",
    "    return x+y+z\n",
    "# print(ai(0))\n",
    "a_w1 = a_mat(cov_mat1_inv)\n",
    "print(a_w1.shape)\n",
    "a_w2 = a_mat(cov_mat2_inv)\n",
    "b_w1 = b_mat(m1,cov_mat1_inv)\n",
    "print(b_w1.shape)\n",
    "b_w2 = b_mat(m2,cov_mat2_inv)\n",
    "cio_w1 = CIO(m1,cov_mat1_inv,p_w1)\n",
    "print(cio_w1.shape)\n",
    "cio_w2 = CIO(m2,cov_mat2_inv,p_w2)"
   ]
  },
  {
   "cell_type": "code",
   "execution_count": 229,
   "metadata": {},
   "outputs": [
    {
     "name": "stdout",
     "output_type": "stream",
     "text": [
      "[[34.09453489]]\n",
      "[[11.35018207]]\n"
     ]
    }
   ],
   "source": [
    "def discriminator(A,B,cio,X):\n",
    "    x = (-0.5)*np.dot(np.dot(X.T,A),X)\n",
    "    y = np.dot(B,X)\n",
    "    z = cio\n",
    "    return x+y+z\n",
    "x_test = np.array([[5],[-2]])\n",
    "g1 = discriminator(a_w1,b_w1,cio_w1,x_test)\n",
    "print(g1)\n",
    "g2 = discriminator(a_w2,b_w2,cio_w2,x_test)\n",
    "print(g2)"
   ]
  },
  {
   "cell_type": "code",
   "execution_count": null,
   "metadata": {},
   "outputs": [],
   "source": []
  }
 ],
 "metadata": {
  "kernelspec": {
   "display_name": "Python 3",
   "language": "python",
   "name": "python3"
  },
  "language_info": {
   "codemirror_mode": {
    "name": "ipython",
    "version": 3
   },
   "file_extension": ".py",
   "mimetype": "text/x-python",
   "name": "python",
   "nbconvert_exporter": "python",
   "pygments_lexer": "ipython3",
   "version": "3.8.3"
  }
 },
 "nbformat": 4,
 "nbformat_minor": 4
}
